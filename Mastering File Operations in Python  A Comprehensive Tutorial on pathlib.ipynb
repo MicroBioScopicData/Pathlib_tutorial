{
 "cells": [
  {
   "cell_type": "markdown",
   "id": "ecf9f64b",
   "metadata": {},
   "source": [
    "# Mastering Basic File Operations in Python:  A Comprehensive Tutorial on pathlib\n",
    "\n",
    "Find more tutorials about Computer Vision, Microscopy, Biology and Data Science [here](https://medium.com/@microbioscopicdata)\n",
    "\n",
    "![SegmentLocal](Animated_logo_smaller_faster.gif \"segment\")"
   ]
  },
  {
   "cell_type": "markdown",
   "id": "b5e15664",
   "metadata": {},
   "source": [
    "Python is a powerful and versatile programming language that is widely used for various applications. One of the most common tasks that programmers perform in their projects is handling files and directories. Python provides several libraries to help developers manage files and directories easily and efficiently. The pathlib1 library is one of the most commonly used libraries for file handling in Python. In this tutorial, we will cover the basic concepts of file paths, the basic functionalities of pathlib, including how to create paths, navigate directories, and manipulate files. We'll start with the basics of creating and accessing paths, and then move on to more advanced topics like file and directory manipulation.By the end of this tutorial, you'll have a good understanding of how to use pathlib to manage your file system operations efficiently and reliably. So, let's get started!"
   ]
  },
  {
   "cell_type": "markdown",
   "id": "4e419fb3",
   "metadata": {},
   "source": [
    "## Basic concepts of file paths\n",
    "In computing, a file path is the unique location of a file or directory in a file system. It is typically represented as a string of characters that identifies the file or directory's location in the file system hierarchy. The file path consists of one or more directory names separated by a delimiter, such as a forward slash (/) or backslash (\\), followed by the file name. There are two types of file paths: absolute and relative. An absolute file path provides the complete location of the file or directory in the file system, starting from the root directory. For example, on a Unix-like system, the root directory is represented as /, so an absolute file path for a file named example.txt located in the myfolder directory inside the root directory would be /myfolder/example.txt.A relative file path, on the other hand, provides the location of the file or directory relative to the current working directory. The current working directory is the directory in which the Python script is executed. For example, if the Python script is executed in the myfolder directory, a relative file path for a file named example.txt located in the same directory would be ./example.txt, where the . represents the current directory.It is important to note that file paths can vary depending on the operating system. For example, on Windows, file paths are represented using backslashes (\\) instead of forward slashes (/), and the root directory is represented as a drive letter, such as C:\\. Understanding file paths is essential for performing file operations in Python, and both pathlib and os libraries (os isa library we are going to see in another tutorial) provide functions to work with file paths in a platform-independent way.\n"
   ]
  },
  {
   "cell_type": "markdown",
   "id": "484fe5d8",
   "metadata": {},
   "source": [
    "## Basic pathlib functionalities\n",
    "1.\tCreating a Path object: The Path object can be created by passing the file path as a string to the constructor. For example:"
   ]
  },
  {
   "cell_type": "code",
   "execution_count": null,
   "id": "974de78c",
   "metadata": {},
   "outputs": [],
   "source": [
    "from pathlib import Path\n",
    "file_path = Path(\"path/to/file.txt\")"
   ]
  },
  {
   "cell_type": "markdown",
   "id": "9cc174b8",
   "metadata": {},
   "source": [
    "2. Checking if a file or directory exists: You can use the exists() method of a Path object to check if a file or directory exists at the specified path. For example:"
   ]
  },
  {
   "cell_type": "code",
   "execution_count": null,
   "id": "c65c22f6",
   "metadata": {},
   "outputs": [],
   "source": [
    "file_path = Path(\"path/to/file.txt\")\n",
    "if file_path.exists():\n",
    "    print(\"File exists\")\n"
   ]
  },
  {
   "cell_type": "markdown",
   "id": "96a41f8f",
   "metadata": {},
   "source": [
    "3.\tCreating a new directory: You can create a new directory using the mkdir() method of a Path object. For example:"
   ]
  },
  {
   "cell_type": "code",
   "execution_count": null,
   "id": "52e2d296",
   "metadata": {},
   "outputs": [],
   "source": [
    "dir_path = Path(\"path/to/new/directory\")\n",
    "dir_path.mkdir()"
   ]
  },
  {
   "cell_type": "markdown",
   "id": "e6f69792",
   "metadata": {},
   "source": [
    "4.\tCreating a new file: You can create a new file using the touch() method of a Path object. For example:"
   ]
  },
  {
   "cell_type": "code",
   "execution_count": null,
   "id": "c38854eb",
   "metadata": {},
   "outputs": [],
   "source": [
    "file_path = Path(\"path/to/new/file.txt\")\n",
    "file_path.touch()"
   ]
  },
  {
   "cell_type": "markdown",
   "id": "4206156e",
   "metadata": {},
   "source": [
    "5.\tReading the contents of a file: You can read the contents of a file using the read_text() method of a Path object. For example:"
   ]
  },
  {
   "cell_type": "code",
   "execution_count": null,
   "id": "56ffc266",
   "metadata": {},
   "outputs": [],
   "source": [
    "file_path = Path(\"path/to/file.txt\")\n",
    "file_contents = file_path.read_text()\n",
    "print(file_contents)"
   ]
  },
  {
   "cell_type": "markdown",
   "id": "8036acfd",
   "metadata": {},
   "source": [
    "6.\tWriting to a file: You can write to a file using the write_text() method of a Path object. For example:"
   ]
  },
  {
   "cell_type": "code",
   "execution_count": null,
   "id": "76cba478",
   "metadata": {},
   "outputs": [],
   "source": [
    "file_path = Path(\"path/to/file.txt\")\n",
    "file_contents = \"This is the new file contents.\"\n",
    "file_path.write_text(file_contents)"
   ]
  },
  {
   "cell_type": "markdown",
   "id": "5605e230",
   "metadata": {},
   "source": [
    "7.\tDeleting a file or directory: You can delete a file or directory using the unlink() and rmdir() methods, respectively. For example:"
   ]
  },
  {
   "cell_type": "code",
   "execution_count": null,
   "id": "38acd1cb",
   "metadata": {},
   "outputs": [],
   "source": [
    "file_path = Path(\"path/to/file.txt\")\n",
    "file_path.unlink()\n",
    "\n",
    "dir_path = Path(\"path/to/directory\")\n",
    "dir_path.rmdir()"
   ]
  },
  {
   "cell_type": "markdown",
   "id": "d2b28f00",
   "metadata": {},
   "source": [
    "8.\tShow Current Directory: it is important to know where you are at any moment, you can use the Path.cwd() method. Here's an example:"
   ]
  },
  {
   "cell_type": "code",
   "execution_count": null,
   "id": "915884cf",
   "metadata": {},
   "outputs": [],
   "source": [
    "from pathlib import Path\n",
    "\n",
    "# Get the current working directory\n",
    "current_dir = Path.cwd()\n",
    "\n",
    "# Print the current directory\n",
    "print(\"Current directory:\", current_dir)"
   ]
  },
  {
   "cell_type": "markdown",
   "id": "ad4e6d23",
   "metadata": {},
   "source": [
    "9.\tShow directory content: To show the contents of a directory using Pathlib in Python, you can use the Path.iterdir() method. This method returns an iterator that yields Path objects for each item in the directory, including both files and directories."
   ]
  },
  {
   "cell_type": "code",
   "execution_count": null,
   "id": "7bb24eaf",
   "metadata": {},
   "outputs": [],
   "source": [
    "# Specify the directory path\n",
    "dir_path = Path.cwd()\n",
    "\n",
    "# Loop through the contents and print their names\n",
    "for item in dir_path.iterdir():\n",
    "    print(item.name)"
   ]
  }
 ],
 "metadata": {
  "kernelspec": {
   "display_name": "Python 3 (ipykernel)",
   "language": "python",
   "name": "python3"
  },
  "language_info": {
   "codemirror_mode": {
    "name": "ipython",
    "version": 3
   },
   "file_extension": ".py",
   "mimetype": "text/x-python",
   "name": "python",
   "nbconvert_exporter": "python",
   "pygments_lexer": "ipython3",
   "version": "3.9.13"
  }
 },
 "nbformat": 4,
 "nbformat_minor": 5
}
